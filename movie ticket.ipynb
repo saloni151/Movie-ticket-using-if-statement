{
 "cells": [
  {
   "cell_type": "code",
   "execution_count": 1,
   "id": "66ada6e2",
   "metadata": {},
   "outputs": [
    {
     "name": "stdout",
     "output_type": "stream",
     "text": [
      "will you go for movie (Yes/No):No\n"
     ]
    }
   ],
   "source": [
    "#type1 movie\n",
    "tkt=input(\"will you go for movie (Yes/No):\")"
   ]
  },
  {
   "cell_type": "code",
   "execution_count": 2,
   "id": "a03be0b3",
   "metadata": {},
   "outputs": [
    {
     "name": "stdout",
     "output_type": "stream",
     "text": [
      "go and read python notes\n",
      "program is over\n"
     ]
    }
   ],
   "source": [
    "if(tkt==\"Yes\"):\n",
    "    print(\"enter into the cinema hall\")\n",
    "    print(\"watch the movie\")\n",
    "    print(\"go back home\")\n",
    "if(tkt==\"No\"):\n",
    "    print(\"go and read python notes\")\n",
    "print(\"program is over\")\n"
   ]
  },
  {
   "cell_type": "code",
   "execution_count": 3,
   "id": "cc1c26e0",
   "metadata": {},
   "outputs": [
    {
     "name": "stdout",
     "output_type": "stream",
     "text": [
      "do you have a ticket for movie (Yes/No):Yes\n"
     ]
    }
   ],
   "source": [
    "#type2 movie\n",
    "tkt=input(\"do you have a ticket for movie (Yes/No):\")"
   ]
  },
  {
   "cell_type": "code",
   "execution_count": 5,
   "id": "ced1a525",
   "metadata": {},
   "outputs": [
    {
     "name": "stdout",
     "output_type": "stream",
     "text": [
      "enter the cinema hall name:cinepolish\n",
      "cinema hall namecinepolish\n",
      " enter the movie name:kal ho na ho\n",
      "the movie name iskal ho na ho\n",
      "go back home\n",
      "program is over\n"
     ]
    }
   ],
   "source": [
    "if(tkt==\"Yes\"):\n",
    "    ch=input(\"enter the cinema hall name:\")\n",
    "    print(\"cinema hall name{}\".format(ch))\n",
    "    mn=input(\" enter the movie name:\")\n",
    "    print(\"the movie name is{}\".format(mn))\n",
    "    print(\"go back home\")\n",
    "if(tkt==\"No\"):\n",
    "    print(\"go and read python notes\")\n",
    "print(\"program is over\")\n"
   ]
  },
  {
   "cell_type": "code",
   "execution_count": null,
   "id": "ef015d67",
   "metadata": {},
   "outputs": [],
   "source": []
  },
  {
   "cell_type": "code",
   "execution_count": null,
   "id": "7dfddd6e",
   "metadata": {},
   "outputs": [],
   "source": []
  },
  {
   "cell_type": "code",
   "execution_count": null,
   "id": "864523a2",
   "metadata": {},
   "outputs": [],
   "source": []
  },
  {
   "cell_type": "code",
   "execution_count": null,
   "id": "c403abaf",
   "metadata": {},
   "outputs": [],
   "source": []
  },
  {
   "cell_type": "code",
   "execution_count": null,
   "id": "34b1fc57",
   "metadata": {},
   "outputs": [],
   "source": []
  },
  {
   "cell_type": "code",
   "execution_count": null,
   "id": "7b89d9e4",
   "metadata": {},
   "outputs": [],
   "source": []
  },
  {
   "cell_type": "code",
   "execution_count": null,
   "id": "e7b94eda",
   "metadata": {},
   "outputs": [],
   "source": []
  }
 ],
 "metadata": {
  "kernelspec": {
   "display_name": "Python 3 (ipykernel)",
   "language": "python",
   "name": "python3"
  },
  "language_info": {
   "codemirror_mode": {
    "name": "ipython",
    "version": 3
   },
   "file_extension": ".py",
   "mimetype": "text/x-python",
   "name": "python",
   "nbconvert_exporter": "python",
   "pygments_lexer": "ipython3",
   "version": "3.10.9"
  }
 },
 "nbformat": 4,
 "nbformat_minor": 5
}
